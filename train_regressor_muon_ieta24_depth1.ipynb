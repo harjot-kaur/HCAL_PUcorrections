{
 "cells": [
  {
   "cell_type": "code",
   "execution_count": 1,
   "metadata": {
    "nbpresent": {
     "id": "0a248537-a46f-4db0-b91f-c9fcb1827f63"
    }
   },
   "outputs": [
    {
     "name": "stderr",
     "output_type": "stream",
     "text": [
      "Using TensorFlow backend.\n"
     ]
    },
    {
     "name": "stdout",
     "output_type": "stream",
     "text": [
      "Welcome to JupyROOT 6.20/06\n"
     ]
    }
   ],
   "source": [
    "import pandas as pd\n",
    "import numpy as np\n",
    "import matplotlib.pyplot as plt\n",
    "import keras\n",
    "from keras.models import Sequential\n",
    "from keras.layers import Dense\n",
    "from keras.layers import Dropout\n",
    "from keras.utils.np_utils import to_categorical\n",
    "from tensorflow.keras.utils import plot_model\n",
    "from keras import regularizers\n",
    "from sklearn.metrics import roc_curve, auc\n",
    "from keras.layers import Activation\n",
    "from keras import backend as K\n",
    "import ROOT\n",
    "import uproot"
   ]
  },
  {
   "cell_type": "code",
   "execution_count": 7,
   "metadata": {},
   "outputs": [
    {
     "name": "stdout",
     "output_type": "stream",
     "text": [
      "Index([      b'Event_No',     b'GoodVertex',     b'pt_of_muon',\n",
      "          b'eta_of_muon',    b'phi_of_muon', b'energy_of_muon',\n",
      "            b'hcal_ieta',      b'hcal_iphi',   b'MuonIsMedium'],\n",
      "      dtype='object')\n"
     ]
    }
   ],
   "source": [
    "MC = pd.read_pickle('../MakeDataset/Run3_MC_forPUweights.pkl')\n",
    "print (MC.keys())"
   ]
  },
  {
   "cell_type": "code",
   "execution_count": 8,
   "metadata": {},
   "outputs": [
    {
     "name": "stdout",
     "output_type": "stream",
     "text": [
      "Index([      b'Event_No',     b'GoodVertex',     b'pt_of_muon',\n",
      "          b'eta_of_muon',    b'phi_of_muon', b'energy_of_muon',\n",
      "            b'hcal_ieta',      b'hcal_iphi',   b'MuonIsMedium'],\n",
      "      dtype='object')\n"
     ]
    }
   ],
   "source": [
    "Data = pd.read_pickle('../MakeDataset/Run3_Data_forPUweights.pkl')\n",
    "print (Data.keys())"
   ]
  },
  {
   "cell_type": "code",
   "execution_count": 10,
   "metadata": {},
   "outputs": [
    {
     "name": "stdout",
     "output_type": "stream",
     "text": [
      "(3870826, 9)\n",
      "(14303078, 9)\n"
     ]
    }
   ],
   "source": [
    "print(MC.shape)\n",
    "print(Data.shape)"
   ]
  },
  {
   "cell_type": "code",
   "execution_count": 14,
   "metadata": {},
   "outputs": [],
   "source": [
    "MC_1 = MC.loc[abs(MC[b'hcal_ieta']) == 24]\n",
    "Data_1 = Data.loc[abs(Data[b'hcal_ieta']) == 24]"
   ]
  },
  {
   "cell_type": "code",
   "execution_count": 15,
   "metadata": {},
   "outputs": [
    {
     "name": "stdout",
     "output_type": "stream",
     "text": [
      "(377507, 9)\n",
      "(1776874, 9)\n"
     ]
    }
   ],
   "source": [
    "print(MC_1.shape)\n",
    "print(Data_1.shape)"
   ]
  },
  {
   "cell_type": "code",
   "execution_count": null,
   "metadata": {},
   "outputs": [],
   "source": [
    "####Calculating PU weights"
   ]
  },
  {
   "cell_type": "code",
   "execution_count": 2,
   "metadata": {},
   "outputs": [],
   "source": [
    "data_file = '/eos/cms/store/group/dpg_hcal/comm_hcal/Harjot/Muon_EraG_RECO/Validation.root'\n",
    "mc_PU_file = '/eos/cms/store/group/dpg_hcal/comm_hcal/Harjot/MC/Validation_PU.root'\n",
    "data = uproot.open(data_file,xrootdsource=dict(chunkbytes=1024**3, limitbytes=1024**3))['hcalHBHEMuon/TREE']\n",
    "mc_PU = uproot.open(mc_PU_file,xrootdsource=dict(chunkbytes=1024**3, limitbytes=1024**3))['hcalHBHEMuon/TREE']"
   ]
  },
  {
   "cell_type": "code",
   "execution_count": 6,
   "metadata": {},
   "outputs": [],
   "source": [
    "data.keys()\n",
    "nVtx_data = data[b'GoodVertex'].array()"
   ]
  },
  {
   "cell_type": "code",
   "execution_count": 4,
   "metadata": {},
   "outputs": [],
   "source": [
    "mc_PU.keys()\n",
    "nVtx_mc = mc_PU[b'GoodVertex'].array()"
   ]
  },
  {
   "cell_type": "code",
   "execution_count": 5,
   "metadata": {},
   "outputs": [
    {
     "name": "stdout",
     "output_type": "stream",
     "text": [
      "(50573284,)\n",
      "(9142071,)\n"
     ]
    }
   ],
   "source": [
    "print(nVtx_data.shape)\n",
    "print(nVtx_mc.shape)"
   ]
  },
  {
   "cell_type": "code",
   "execution_count": 6,
   "metadata": {},
   "outputs": [],
   "source": [
    "pileup_mc = nVtx_mc[((nVtx_mc <100.5) & (nVtx_mc >=9.5))]\n",
    "pileup_data = nVtx_data[((nVtx_data <100.5) & (nVtx_data >=9.5))]"
   ]
  },
  {
   "cell_type": "code",
   "execution_count": 7,
   "metadata": {},
   "outputs": [
    {
     "name": "stdout",
     "output_type": "stream",
     "text": [
      "(50560872,)\n",
      "(9124937,)\n"
     ]
    }
   ],
   "source": [
    "print(pileup_data.shape)\n",
    "print(pileup_mc.shape)"
   ]
  },
  {
   "cell_type": "code",
   "execution_count": 8,
   "metadata": {},
   "outputs": [
    {
     "data": {
      "image/png": "[encoded data removed]",
      "text/plain": [
       "<Figure size 432x288 with 1 Axes>"
      ]
     },
     "metadata": {
      "needs_background": "light"
     },
     "output_type": "display_data"
    }
   ],
   "source": [
    "count_mc, bins_mc, _  = plt.hist(pileup_mc, bins = 101, range = (-0.5, 100.5), density = 1)"
   ]
  },
  {
   "cell_type": "code",
   "execution_count": 9,
   "metadata": {},
   "outputs": [
    {
     "data": {
      "image/png": "[encoded data removed]",
      "text/plain": [
       "<Figure size 432x288 with 1 Axes>"
      ]
     },
     "metadata": {
      "needs_background": "light"
     },
     "output_type": "display_data"
    }
   ],
   "source": [
    "count_data, bins_data, _  = plt.hist(pileup_data, bins = 101, range = (-0.5, 100.5), density = 1)"
   ]
  },
  {
   "cell_type": "code",
   "execution_count": 10,
   "metadata": {},
   "outputs": [
    {
     "name": "stdout",
     "output_type": "stream",
     "text": [
      "[        nan         nan         nan         nan         nan         nan\n",
      "         nan         nan         nan         nan  0.07691526  0.08199761\n",
      "  0.09070753  0.10139044  0.11967078  0.13814989  0.15555531  0.17563605\n",
      "  0.2022811   0.22850785  0.25574456  0.29264598  0.33211799  0.38312362\n",
      "  0.43108787  0.49885923  0.5584535   0.63357721  0.70723697  0.79675552\n",
      "  0.8792243   0.94904031  1.04109857  1.14539853  1.2268542   1.31602131\n",
      "  1.40637094  1.48212135  1.57210317  1.6914392   1.801858    1.89784112\n",
      "  1.97534416  2.12409909  2.23091539  2.381565    2.44701885  2.63868516\n",
      "  2.71895317  3.05221828  3.20563445  3.41527799  3.83886802  3.72892909\n",
      "  4.59711565  4.81512078  4.95308277  6.17182288  6.83407974  8.24503442\n",
      "  7.18333326  8.67240065 13.35899189 13.79754984 19.55910712 11.42461368\n",
      " 21.8073089  11.39529859 28.33446205 32.7074927  39.70434173 18.79338842\n",
      "         inf         inf         inf         inf         inf         inf\n",
      "         inf         inf         inf         inf         inf         nan\n",
      "         inf         nan         inf         nan         inf         inf\n",
      "         nan         nan         nan         nan         nan         nan\n",
      "         nan         nan         nan         nan         nan]\n"
     ]
    },
    {
     "name": "stderr",
     "output_type": "stream",
     "text": [
      "/cvmfs/sft.cern.ch/lcg/views/LCG_97apython3/x86_64-centos7-gcc8-opt/lib/python3.7/site-packages/ipykernel_launcher.py:1: RuntimeWarning: divide by zero encountered in true_divide\n",
      "  \"\"\"Entry point for launching an IPython kernel.\n",
      "/cvmfs/sft.cern.ch/lcg/views/LCG_97apython3/x86_64-centos7-gcc8-opt/lib/python3.7/site-packages/ipykernel_launcher.py:1: RuntimeWarning: invalid value encountered in true_divide\n",
      "  \"\"\"Entry point for launching an IPython kernel.\n"
     ]
    }
   ],
   "source": [
    "weight = count_data/count_mc\n",
    "print(weight)"
   ]
  },
  {
   "cell_type": "code",
   "execution_count": 11,
   "metadata": {},
   "outputs": [
    {
     "name": "stdout",
     "output_type": "stream",
     "text": [
      "(9124937,)\n",
      "[0.70723697 0.70723697 0.13814989 ... 3.05221828 3.05221828 3.05221828]\n",
      "(9124937,)\n"
     ]
    }
   ],
   "source": [
    "weighted_pileup_mc = weight[pileup_mc]\n",
    "print(weighted_pileup_mc.shape)\n",
    "print(weighted_pileup_mc)\n",
    "print(weighted_pileup_mc.shape)"
   ]
  },
  {
   "cell_type": "code",
   "execution_count": 12,
   "metadata": {},
   "outputs": [
    {
     "data": {
      "image/png": "[encoded data removed]",
      "text/plain": [
       "<Figure size 432x288 with 1 Axes>"
      ]
     },
     "metadata": {
      "needs_background": "light"
     },
     "output_type": "display_data"
    }
   ],
   "source": [
    "wcount_mc, wbins_mc, _  = plt.hist(pileup_mc, bins = 101, range = (-0.5, 100.5), weights = weighted_pileup_mc, density = 1)"
   ]
  },
  {
   "cell_type": "code",
   "execution_count": 18,
   "metadata": {
    "nbpresent": {
     "id": "159ee908-ee70-4719-bf31-e67da99e8c61"
    }
   },
   "outputs": [
    {
     "name": "stdout",
     "output_type": "stream",
     "text": [
      "Index([         b'pt_of_muon',         b'eta_of_muon',         b'phi_of_muon',\n",
      "            b'energy_of_muon',           b'hcal_ieta',           b'hcal_iphi',\n",
      "              b'IsolationR04',        b'IsolationR03',         b'ecal_3into3',\n",
      "               b'hcal_3into3',            b'ecal_3x3',            b'hcal_1x1',\n",
      "       'b'hcal_cdepthHot1'_x', 'b'hcal_cdepthHot2'_x', 'b'hcal_cdepthHot3'_x',\n",
      "       'b'hcal_cdepthHot4'_x', 'b'hcal_cdepthHot5'_x', 'b'hcal_cdepthHot6'_x',\n",
      "       'b'hcal_cdepthHot7'_x', 'b'hcal_cdepthHot1'_y', 'b'hcal_cdepthHot2'_y',\n",
      "       'b'hcal_cdepthHot3'_y', 'b'hcal_cdepthHot4'_y', 'b'hcal_cdepthHot5'_y',\n",
      "       'b'hcal_cdepthHot6'_y', 'b'hcal_cdepthHot7'_y'],\n",
      "      dtype='object')\n",
      "(1018659, 26)\n"
     ]
    }
   ],
   "source": [
    "# load saved df\n",
    "df = pd.read_pickle('../MakeDataset/Run3_MC_charge_only.pkl')\n",
    "print (df.keys())\n",
    "print(df.shape)"
   ]
  },
  {
   "cell_type": "code",
   "execution_count": 17,
   "metadata": {
    "nbpresent": {
     "id": "e42911ea-1e5e-4460-830f-e3c48218d94b"
    }
   },
   "outputs": [
    {
     "name": "stdout",
     "output_type": "stream",
     "text": [
      "(28273, 26)\n"
     ]
    }
   ],
   "source": [
    "# filter events\n",
    "\n",
    "df = df.loc[abs(df[b'hcal_ieta']) == 24]\n",
    "\n",
    "#print(df[b'hcal_ieta'])\n",
    "print(df.shape)\n",
    "\n",
    "df = df.loc[df[\"b'hcal_cdepthHot1'_x\"] > 0.0001]\n",
    "df = df.loc[df[\"b'hcal_cdepthHot1'_y\"] > 0.0001]\n",
    "\n"
   ]
  },
  {
   "cell_type": "code",
   "execution_count": 15,
   "metadata": {},
   "outputs": [],
   "source": [
    "df[\"b'hcal_cdepthHot1'_x\"]=np.log(10000*df[\"b'hcal_cdepthHot1'_x\"])\n",
    "df[\"b'hcal_cdepthHot1'_y\"]=np.log(10000*df[\"b'hcal_cdepthHot1'_y\"])\n",
    "\n",
    "\n",
    "\n",
    "#df[\"b'hcal_cdepthHot3'_x\"]=np.log(10000*df[\"b'hcal_cdepthHot3'_x\"])\n",
    "#df[\"b'hcal_cdepthHot3'_y\"]=np.log(10000*df[\"b'hcal_cdepthHot3'_y\"])\n"
   ]
  },
  {
   "cell_type": "code",
   "execution_count": 16,
   "metadata": {},
   "outputs": [],
   "source": [
    "# keep originals before scaling\n",
    "df['hcal_cdepthHot1_un'] = df[\"b'hcal_cdepthHot1'_x\"]\n",
    "df['hcal_ieta_un'] = df[b'hcal_ieta']\n"
   ]
  },
  {
   "cell_type": "code",
   "execution_count": 17,
   "metadata": {},
   "outputs": [],
   "source": [
    "# scaling input vars\n",
    "cols_to_minmax =[b'pt_of_muon',b'eta_of_muon',b'phi_of_muon',b'energy_of_muon',b'hcal_ieta',\n",
    "                b'hcal_iphi',     b'IsolationR04',     b'IsolationR03',\n",
    "                b'ecal_3into3',      b'hcal_3into3', \n",
    "                b'ecal_3x3',         b'hcal_1x1',\n",
    "               \"b'hcal_cdepthHot1'_x\", \"b'hcal_cdepthHot2'_x\", \"b'hcal_cdepthHot3'_x\",\n",
    "               \"b'hcal_cdepthHot4'_x\", \"b'hcal_cdepthHot5'_x\", \"b'hcal_cdepthHot6'_x\",\n",
    "               \"b'hcal_cdepthHot7'_x\"]\n",
    "\n",
    "df[cols_to_minmax] = df[cols_to_minmax].apply(lambda x: (x - x.min()) /  (x.max() - x.min()))"
   ]
  },
  {
   "cell_type": "code",
   "execution_count": 18,
   "metadata": {},
   "outputs": [
    {
     "name": "stdout",
     "output_type": "stream",
     "text": [
      "b'pt_of_muon'\n"
     ]
    },
    {
     "data": {
      "image/png": "[encoded data removed]",
      "text/plain": [
       "<Figure size 432x288 with 1 Axes>"
      ]
     },
     "metadata": {
      "needs_background": "light"
     },
     "output_type": "display_data"
    },
    {
     "name": "stdout",
     "output_type": "stream",
     "text": [
      "b'eta_of_muon'\n"
     ]
    },
    {
     "data": {
      "image/png": "[encoded data removed]",
      "text/plain": [
       "<Figure size 432x288 with 1 Axes>"
      ]
     },
     "metadata": {
      "needs_background": "light"
     },
     "output_type": "display_data"
    },
    {
     "name": "stdout",
     "output_type": "stream",
     "text": [
      "b'phi_of_muon'\n"
     ]
    },
    {
     "data": {
      "image/png": "[encoded data removed]",
      "text/plain": [
       "<Figure size 432x288 with 1 Axes>"
      ]
     },
     "metadata": {
      "needs_background": "light"
     },
     "output_type": "display_data"
    },
    {
     "name": "stdout",
     "output_type": "stream",
     "text": [
      "b'energy_of_muon'\n"
     ]
    },
    {
     "data": {
      "image/png": "[encoded data removed]",
      "text/plain": [
       "<Figure size 432x288 with 1 Axes>"
      ]
     },
     "metadata": {
      "needs_background": "light"
     },
     "output_type": "display_data"
    },
    {
     "name": "stdout",
     "output_type": "stream",
     "text": [
      "b'hcal_ieta'\n"
     ]
    },
    {
     "data": {
      "image/png": "[encoded data removed]",
      "text/plain": [
       "<Figure size 432x288 with 1 Axes>"
      ]
     },
     "metadata": {
      "needs_background": "light"
     },
     "output_type": "display_data"
    },
    {
     "name": "stdout",
     "output_type": "stream",
     "text": [
      "b'hcal_iphi'\n"
     ]
    },
    {
     "data": {
      "image/png": "[encoded data removed]",
      "text/plain": [
       "<Figure size 432x288 with 1 Axes>"
      ]
     },
     "metadata": {
      "needs_background": "light"
     },
     "output_type": "display_data"
    },
    {
     "name": "stdout",
     "output_type": "stream",
     "text": [
      "b'IsolationR04'\n"
     ]
    },
    {
     "data": {
      "image/png": "[encoded data removed]",
      "text/plain": [
       "<Figure size 432x288 with 1 Axes>"
      ]
     },
     "metadata": {
      "needs_background": "light"
     },
     "output_type": "display_data"
    },
    {
     "name": "stdout",
     "output_type": "stream",
     "text": [
      "b'IsolationR03'\n"
     ]
    },
    {
     "data": {
      "image/png": "[encoded data removed]",
      "text/plain": [
       "<Figure size 432x288 with 1 Axes>"
      ]
     },
     "metadata": {
      "needs_background": "light"
     },
     "output_type": "display_data"
    },
    {
     "name": "stdout",
     "output_type": "stream",
     "text": [
      "b'ecal_3into3'\n"
     ]
    },
    {
     "data": {
      "image/png": "[encoded data removed]",
      "text/plain": [
       "<Figure size 432x288 with 1 Axes>"
      ]
     },
     "metadata": {
      "needs_background": "light"
     },
     "output_type": "display_data"
    },
    {
     "name": "stdout",
     "output_type": "stream",
     "text": [
      "b'hcal_3into3'\n"
     ]
    },
    {
     "data": {
      "image/png": "[encoded data removed]",
      "text/plain": [
       "<Figure size 432x288 with 1 Axes>"
      ]
     },
     "metadata": {
      "needs_background": "light"
     },
     "output_type": "display_data"
    },
    {
     "name": "stdout",
     "output_type": "stream",
     "text": [
      "b'ecal_3x3'\n"
     ]
    },
    {
     "data": {
      "image/png": "[encoded data removed]",
      "text/plain": [
       "<Figure size 432x288 with 1 Axes>"
      ]
     },
     "metadata": {
      "needs_background": "light"
     },
     "output_type": "display_data"
    },
    {
     "name": "stdout",
     "output_type": "stream",
     "text": [
      "b'hcal_1x1'\n"
     ]
    },
    {
     "data": {
      "image/png": "[encoded data removed]",
      "text/plain": [
       "<Figure size 432x288 with 1 Axes>"
      ]
     },
     "metadata": {
      "needs_background": "light"
     },
     "output_type": "display_data"
    },
    {
     "name": "stdout",
     "output_type": "stream",
     "text": [
      "b'hcal_cdepthHot1'_x\n"
     ]
    },
    {
     "data": {
      "image/png": "[encoded data removed]",
      "text/plain": [
       "<Figure size 432x288 with 1 Axes>"
      ]
     },
     "metadata": {
      "needs_background": "light"
     },
     "output_type": "display_data"
    },
    {
     "name": "stdout",
     "output_type": "stream",
     "text": [
      "b'hcal_cdepthHot2'_x\n"
     ]
    },
    {
     "data": {
      "image/png": "[encoded data removed]",
      "text/plain": [
       "<Figure size 432x288 with 1 Axes>"
      ]
     },
     "metadata": {
      "needs_background": "light"
     },
     "output_type": "display_data"
    },
    {
     "name": "stdout",
     "output_type": "stream",
     "text": [
      "b'hcal_cdepthHot3'_x\n"
     ]
    },
    {
     "name": "stderr",
     "output_type": "stream",
     "text": [
      "/cvmfs/sft.cern.ch/lcg/views/LCG_97apython3/x86_64-centos7-gcc8-opt/lib/python3.7/site-packages/matplotlib/axes/_axes.py:6721: RuntimeWarning: All-NaN slice encountered\n",
      "  xmin = min(xmin, np.nanmin(xi))\n",
      "/cvmfs/sft.cern.ch/lcg/views/LCG_97apython3/x86_64-centos7-gcc8-opt/lib/python3.7/site-packages/matplotlib/axes/_axes.py:6722: RuntimeWarning: All-NaN slice encountered\n",
      "  xmax = max(xmax, np.nanmax(xi))\n"
     ]
    },
    {
     "ename": "ValueError",
     "evalue": "autodetected range of [nan, nan] is not finite",
     "output_type": "error",
     "traceback": [
      "\u001b[0;31m---------------------------------------------------------------------------\u001b[0m",
      "\u001b[0;31mValueError\u001b[0m                                Traceback (most recent call last)",
      "\u001b[0;32m<ipython-input-18-ff3a9b8a5d00>\u001b[0m in \u001b[0;36m<module>\u001b[0;34m\u001b[0m\n\u001b[1;32m      2\u001b[0m     \u001b[0mprint\u001b[0m \u001b[0;34m(\u001b[0m\u001b[0mi\u001b[0m\u001b[0;34m)\u001b[0m\u001b[0;34m\u001b[0m\u001b[0;34m\u001b[0m\u001b[0m\n\u001b[1;32m      3\u001b[0m \u001b[0;34m\u001b[0m\u001b[0m\n\u001b[0;32m----> 4\u001b[0;31m     \u001b[0mplt\u001b[0m\u001b[0;34m.\u001b[0m\u001b[0mhist\u001b[0m\u001b[0;34m(\u001b[0m\u001b[0mdf\u001b[0m\u001b[0;34m[\u001b[0m\u001b[0mi\u001b[0m\u001b[0;34m]\u001b[0m\u001b[0;34m,\u001b[0m\u001b[0mbins\u001b[0m\u001b[0;34m=\u001b[0m\u001b[0;36m100\u001b[0m\u001b[0;34m,\u001b[0m\u001b[0mlabel\u001b[0m\u001b[0;34m=\u001b[0m\u001b[0mstr\u001b[0m\u001b[0;34m(\u001b[0m\u001b[0mi\u001b[0m\u001b[0;34m)\u001b[0m\u001b[0;34m,\u001b[0m\u001b[0malpha\u001b[0m\u001b[0;34m=\u001b[0m\u001b[0;36m0.4\u001b[0m\u001b[0;34m)\u001b[0m\u001b[0;34m\u001b[0m\u001b[0;34m\u001b[0m\u001b[0m\n\u001b[0m\u001b[1;32m      5\u001b[0m     \u001b[0mplt\u001b[0m\u001b[0;34m.\u001b[0m\u001b[0myscale\u001b[0m\u001b[0;34m(\u001b[0m\u001b[0;34m\"log\"\u001b[0m\u001b[0;34m)\u001b[0m\u001b[0;34m\u001b[0m\u001b[0;34m\u001b[0m\u001b[0m\n\u001b[1;32m      6\u001b[0m     \u001b[0mplt\u001b[0m\u001b[0;34m.\u001b[0m\u001b[0mlegend\u001b[0m\u001b[0;34m(\u001b[0m\u001b[0;34m)\u001b[0m\u001b[0;34m\u001b[0m\u001b[0;34m\u001b[0m\u001b[0m\n",
      "\u001b[0;32m/cvmfs/sft.cern.ch/lcg/views/LCG_97apython3/x86_64-centos7-gcc8-opt/lib/python3.7/site-packages/matplotlib/pyplot.py\u001b[0m in \u001b[0;36mhist\u001b[0;34m(x, bins, range, density, weights, cumulative, bottom, histtype, align, orientation, rwidth, log, color, label, stacked, normed, data, **kwargs)\u001b[0m\n\u001b[1;32m   2634\u001b[0m         \u001b[0malign\u001b[0m\u001b[0;34m=\u001b[0m\u001b[0malign\u001b[0m\u001b[0;34m,\u001b[0m \u001b[0morientation\u001b[0m\u001b[0;34m=\u001b[0m\u001b[0morientation\u001b[0m\u001b[0;34m,\u001b[0m \u001b[0mrwidth\u001b[0m\u001b[0;34m=\u001b[0m\u001b[0mrwidth\u001b[0m\u001b[0;34m,\u001b[0m \u001b[0mlog\u001b[0m\u001b[0;34m=\u001b[0m\u001b[0mlog\u001b[0m\u001b[0;34m,\u001b[0m\u001b[0;34m\u001b[0m\u001b[0;34m\u001b[0m\u001b[0m\n\u001b[1;32m   2635\u001b[0m         \u001b[0mcolor\u001b[0m\u001b[0;34m=\u001b[0m\u001b[0mcolor\u001b[0m\u001b[0;34m,\u001b[0m \u001b[0mlabel\u001b[0m\u001b[0;34m=\u001b[0m\u001b[0mlabel\u001b[0m\u001b[0;34m,\u001b[0m \u001b[0mstacked\u001b[0m\u001b[0;34m=\u001b[0m\u001b[0mstacked\u001b[0m\u001b[0;34m,\u001b[0m \u001b[0mnormed\u001b[0m\u001b[0;34m=\u001b[0m\u001b[0mnormed\u001b[0m\u001b[0;34m,\u001b[0m\u001b[0;34m\u001b[0m\u001b[0;34m\u001b[0m\u001b[0m\n\u001b[0;32m-> 2636\u001b[0;31m         **({\"data\": data} if data is not None else {}), **kwargs)\n\u001b[0m\u001b[1;32m   2637\u001b[0m \u001b[0;34m\u001b[0m\u001b[0m\n\u001b[1;32m   2638\u001b[0m \u001b[0;34m\u001b[0m\u001b[0m\n",
      "\u001b[0;32m/cvmfs/sft.cern.ch/lcg/views/LCG_97apython3/x86_64-centos7-gcc8-opt/lib/python3.7/site-packages/matplotlib/__init__.py\u001b[0m in \u001b[0;36minner\u001b[0;34m(ax, data, *args, **kwargs)\u001b[0m\n\u001b[1;32m   1587\u001b[0m     \u001b[0;32mdef\u001b[0m \u001b[0minner\u001b[0m\u001b[0;34m(\u001b[0m\u001b[0max\u001b[0m\u001b[0;34m,\u001b[0m \u001b[0;34m*\u001b[0m\u001b[0margs\u001b[0m\u001b[0;34m,\u001b[0m \u001b[0mdata\u001b[0m\u001b[0;34m=\u001b[0m\u001b[0;32mNone\u001b[0m\u001b[0;34m,\u001b[0m \u001b[0;34m**\u001b[0m\u001b[0mkwargs\u001b[0m\u001b[0;34m)\u001b[0m\u001b[0;34m:\u001b[0m\u001b[0;34m\u001b[0m\u001b[0;34m\u001b[0m\u001b[0m\n\u001b[1;32m   1588\u001b[0m         \u001b[0;32mif\u001b[0m \u001b[0mdata\u001b[0m \u001b[0;32mis\u001b[0m \u001b[0;32mNone\u001b[0m\u001b[0;34m:\u001b[0m\u001b[0;34m\u001b[0m\u001b[0;34m\u001b[0m\u001b[0m\n\u001b[0;32m-> 1589\u001b[0;31m             \u001b[0;32mreturn\u001b[0m \u001b[0mfunc\u001b[0m\u001b[0;34m(\u001b[0m\u001b[0max\u001b[0m\u001b[0;34m,\u001b[0m \u001b[0;34m*\u001b[0m\u001b[0mmap\u001b[0m\u001b[0;34m(\u001b[0m\u001b[0msanitize_sequence\u001b[0m\u001b[0;34m,\u001b[0m \u001b[0margs\u001b[0m\u001b[0;34m)\u001b[0m\u001b[0;34m,\u001b[0m \u001b[0;34m**\u001b[0m\u001b[0mkwargs\u001b[0m\u001b[0;34m)\u001b[0m\u001b[0;34m\u001b[0m\u001b[0;34m\u001b[0m\u001b[0m\n\u001b[0m\u001b[1;32m   1590\u001b[0m \u001b[0;34m\u001b[0m\u001b[0m\n\u001b[1;32m   1591\u001b[0m         \u001b[0mbound\u001b[0m \u001b[0;34m=\u001b[0m \u001b[0mnew_sig\u001b[0m\u001b[0;34m.\u001b[0m\u001b[0mbind\u001b[0m\u001b[0;34m(\u001b[0m\u001b[0max\u001b[0m\u001b[0;34m,\u001b[0m \u001b[0;34m*\u001b[0m\u001b[0margs\u001b[0m\u001b[0;34m,\u001b[0m \u001b[0;34m**\u001b[0m\u001b[0mkwargs\u001b[0m\u001b[0;34m)\u001b[0m\u001b[0;34m\u001b[0m\u001b[0;34m\u001b[0m\u001b[0m\n",
      "\u001b[0;32m/cvmfs/sft.cern.ch/lcg/views/LCG_97apython3/x86_64-centos7-gcc8-opt/lib/python3.7/site-packages/matplotlib/axes/_axes.py\u001b[0m in \u001b[0;36mhist\u001b[0;34m(self, x, bins, range, density, weights, cumulative, bottom, histtype, align, orientation, rwidth, log, color, label, stacked, normed, **kwargs)\u001b[0m\n\u001b[1;32m   6751\u001b[0m             \u001b[0;31m# this will automatically overwrite bins,\u001b[0m\u001b[0;34m\u001b[0m\u001b[0;34m\u001b[0m\u001b[0;34m\u001b[0m\u001b[0m\n\u001b[1;32m   6752\u001b[0m             \u001b[0;31m# so that each histogram uses the same bins\u001b[0m\u001b[0;34m\u001b[0m\u001b[0;34m\u001b[0m\u001b[0;34m\u001b[0m\u001b[0m\n\u001b[0;32m-> 6753\u001b[0;31m             \u001b[0mm\u001b[0m\u001b[0;34m,\u001b[0m \u001b[0mbins\u001b[0m \u001b[0;34m=\u001b[0m \u001b[0mnp\u001b[0m\u001b[0;34m.\u001b[0m\u001b[0mhistogram\u001b[0m\u001b[0;34m(\u001b[0m\u001b[0mx\u001b[0m\u001b[0;34m[\u001b[0m\u001b[0mi\u001b[0m\u001b[0;34m]\u001b[0m\u001b[0;34m,\u001b[0m \u001b[0mbins\u001b[0m\u001b[0;34m,\u001b[0m \u001b[0mweights\u001b[0m\u001b[0;34m=\u001b[0m\u001b[0mw\u001b[0m\u001b[0;34m[\u001b[0m\u001b[0mi\u001b[0m\u001b[0;34m]\u001b[0m\u001b[0;34m,\u001b[0m \u001b[0;34m**\u001b[0m\u001b[0mhist_kwargs\u001b[0m\u001b[0;34m)\u001b[0m\u001b[0;34m\u001b[0m\u001b[0;34m\u001b[0m\u001b[0m\n\u001b[0m\u001b[1;32m   6754\u001b[0m             \u001b[0mm\u001b[0m \u001b[0;34m=\u001b[0m \u001b[0mm\u001b[0m\u001b[0;34m.\u001b[0m\u001b[0mastype\u001b[0m\u001b[0;34m(\u001b[0m\u001b[0mfloat\u001b[0m\u001b[0;34m)\u001b[0m  \u001b[0;31m# causes problems later if it's an int\u001b[0m\u001b[0;34m\u001b[0m\u001b[0;34m\u001b[0m\u001b[0m\n\u001b[1;32m   6755\u001b[0m             \u001b[0;32mif\u001b[0m \u001b[0mmlast\u001b[0m \u001b[0;32mis\u001b[0m \u001b[0;32mNone\u001b[0m\u001b[0;34m:\u001b[0m\u001b[0;34m\u001b[0m\u001b[0;34m\u001b[0m\u001b[0m\n",
      "\u001b[0;32m/cvmfs/sft.cern.ch/lcg/views/LCG_97apython3/x86_64-centos7-gcc8-opt/lib/python3.7/site-packages/numpy/lib/histograms.py\u001b[0m in \u001b[0;36mhistogram\u001b[0;34m(a, bins, range, normed, weights, density)\u001b[0m\n\u001b[1;32m    778\u001b[0m     \u001b[0ma\u001b[0m\u001b[0;34m,\u001b[0m \u001b[0mweights\u001b[0m \u001b[0;34m=\u001b[0m \u001b[0m_ravel_and_check_weights\u001b[0m\u001b[0;34m(\u001b[0m\u001b[0ma\u001b[0m\u001b[0;34m,\u001b[0m \u001b[0mweights\u001b[0m\u001b[0;34m)\u001b[0m\u001b[0;34m\u001b[0m\u001b[0;34m\u001b[0m\u001b[0m\n\u001b[1;32m    779\u001b[0m \u001b[0;34m\u001b[0m\u001b[0m\n\u001b[0;32m--> 780\u001b[0;31m     \u001b[0mbin_edges\u001b[0m\u001b[0;34m,\u001b[0m \u001b[0muniform_bins\u001b[0m \u001b[0;34m=\u001b[0m \u001b[0m_get_bin_edges\u001b[0m\u001b[0;34m(\u001b[0m\u001b[0ma\u001b[0m\u001b[0;34m,\u001b[0m \u001b[0mbins\u001b[0m\u001b[0;34m,\u001b[0m \u001b[0mrange\u001b[0m\u001b[0;34m,\u001b[0m \u001b[0mweights\u001b[0m\u001b[0;34m)\u001b[0m\u001b[0;34m\u001b[0m\u001b[0;34m\u001b[0m\u001b[0m\n\u001b[0m\u001b[1;32m    781\u001b[0m \u001b[0;34m\u001b[0m\u001b[0m\n\u001b[1;32m    782\u001b[0m     \u001b[0;31m# Histogram is an integer or a float array depending on the weights.\u001b[0m\u001b[0;34m\u001b[0m\u001b[0;34m\u001b[0m\u001b[0;34m\u001b[0m\u001b[0m\n",
      "\u001b[0;32m/cvmfs/sft.cern.ch/lcg/views/LCG_97apython3/x86_64-centos7-gcc8-opt/lib/python3.7/site-packages/numpy/lib/histograms.py\u001b[0m in \u001b[0;36m_get_bin_edges\u001b[0;34m(a, bins, range, weights)\u001b[0m\n\u001b[1;32m    415\u001b[0m             \u001b[0;32mraise\u001b[0m \u001b[0mValueError\u001b[0m\u001b[0;34m(\u001b[0m\u001b[0;34m'`bins` must be positive, when an integer'\u001b[0m\u001b[0;34m)\u001b[0m\u001b[0;34m\u001b[0m\u001b[0;34m\u001b[0m\u001b[0m\n\u001b[1;32m    416\u001b[0m \u001b[0;34m\u001b[0m\u001b[0m\n\u001b[0;32m--> 417\u001b[0;31m         \u001b[0mfirst_edge\u001b[0m\u001b[0;34m,\u001b[0m \u001b[0mlast_edge\u001b[0m \u001b[0;34m=\u001b[0m \u001b[0m_get_outer_edges\u001b[0m\u001b[0;34m(\u001b[0m\u001b[0ma\u001b[0m\u001b[0;34m,\u001b[0m \u001b[0mrange\u001b[0m\u001b[0;34m)\u001b[0m\u001b[0;34m\u001b[0m\u001b[0;34m\u001b[0m\u001b[0m\n\u001b[0m\u001b[1;32m    418\u001b[0m \u001b[0;34m\u001b[0m\u001b[0m\n\u001b[1;32m    419\u001b[0m     \u001b[0;32melif\u001b[0m \u001b[0mnp\u001b[0m\u001b[0;34m.\u001b[0m\u001b[0mndim\u001b[0m\u001b[0;34m(\u001b[0m\u001b[0mbins\u001b[0m\u001b[0;34m)\u001b[0m \u001b[0;34m==\u001b[0m \u001b[0;36m1\u001b[0m\u001b[0;34m:\u001b[0m\u001b[0;34m\u001b[0m\u001b[0;34m\u001b[0m\u001b[0m\n",
      "\u001b[0;32m/cvmfs/sft.cern.ch/lcg/views/LCG_97apython3/x86_64-centos7-gcc8-opt/lib/python3.7/site-packages/numpy/lib/histograms.py\u001b[0m in \u001b[0;36m_get_outer_edges\u001b[0;34m(a, range)\u001b[0m\n\u001b[1;32m    313\u001b[0m         \u001b[0;32mif\u001b[0m \u001b[0;32mnot\u001b[0m \u001b[0;34m(\u001b[0m\u001b[0mnp\u001b[0m\u001b[0;34m.\u001b[0m\u001b[0misfinite\u001b[0m\u001b[0;34m(\u001b[0m\u001b[0mfirst_edge\u001b[0m\u001b[0;34m)\u001b[0m \u001b[0;32mand\u001b[0m \u001b[0mnp\u001b[0m\u001b[0;34m.\u001b[0m\u001b[0misfinite\u001b[0m\u001b[0;34m(\u001b[0m\u001b[0mlast_edge\u001b[0m\u001b[0;34m)\u001b[0m\u001b[0;34m)\u001b[0m\u001b[0;34m:\u001b[0m\u001b[0;34m\u001b[0m\u001b[0;34m\u001b[0m\u001b[0m\n\u001b[1;32m    314\u001b[0m             raise ValueError(\n\u001b[0;32m--> 315\u001b[0;31m                 \"autodetected range of [{}, {}] is not finite\".format(first_edge, last_edge))\n\u001b[0m\u001b[1;32m    316\u001b[0m \u001b[0;34m\u001b[0m\u001b[0m\n\u001b[1;32m    317\u001b[0m     \u001b[0;31m# expand empty range to avoid divide by zero\u001b[0m\u001b[0;34m\u001b[0m\u001b[0;34m\u001b[0m\u001b[0;34m\u001b[0m\u001b[0m\n",
      "\u001b[0;31mValueError\u001b[0m: autodetected range of [nan, nan] is not finite"
     ]
    },
    {
     "data": {
      "image/png": "[encoded data removed]",
      "text/plain": [
       "<Figure size 432x288 with 1 Axes>"
      ]
     },
     "metadata": {
      "needs_background": "light"
     },
     "output_type": "display_data"
    }
   ],
   "source": [
    "for i in (df.keys()):\n",
    "    print (i)\n",
    "\n",
    "    plt.hist(df[i],bins=100,label=str(i),alpha=0.4)\n",
    "    plt.yscale(\"log\")\n",
    "    plt.legend()\n",
    "    plt.show()"
   ]
  },
  {
   "cell_type": "code",
   "execution_count": 19,
   "metadata": {
    "nbpresent": {
     "id": "b4717cf1-c9f3-4ecd-a505-1eddfe074421"
    }
   },
   "outputs": [
    {
     "name": "stdout",
     "output_type": "stream",
     "text": [
      "26418\n",
      "(6700, 28)\n",
      "shape of X_train_depth1: (19718, 13)\n",
      "shape of Y_train_depth1: (19718,)\n",
      "=========== X test ==========\n"
     ]
    }
   ],
   "source": [
    "#print(df.keys)\n",
    "data = df.values\n",
    "print (data.shape[0])\n",
    "ntest = 6700\n",
    "testindx = data.shape[0] - ntest\n",
    "X_train_depth1 = data[:testindx,np.r_[0:12,12]]   \n",
    "\n",
    "Y_train_depth1 = data[:testindx,19]\n",
    "\n",
    "\n",
    "X_test = data[testindx:,:]\n",
    "#print(X_test)\n",
    "print (X_test.shape) \n",
    "print (\"shape of X_train_depth1:\",X_train_depth1.shape)\n",
    "#print (\"shape of X_train_depth2:\",X_train_depth2.shape)\n",
    "print (\"shape of Y_train_depth1:\",Y_train_depth1.shape)\n",
    "\n",
    "print(\"=========== X test ==========\")\n",
    "#print(df)\n",
    "#print(X_test[:,33])"
   ]
  },
  {
   "cell_type": "code",
   "execution_count": 20,
   "metadata": {
    "nbpresent": {
     "id": "b867ec5d-fc25-4536-a353-4a87f1391ccb"
    },
    "scrolled": false
   },
   "outputs": [
    {
     "name": "stdout",
     "output_type": "stream",
     "text": [
      "sum weight_depth1: 100.0\n",
      "true_hist_depth1 [ 1207 17765   746]\n",
      "weight_vals_depth1: [ 2.52959738 37.23139803 60.23900459]\n"
     ]
    },
    {
     "data": {
      "image/png": "[encoded data removed]",
      "text/plain": [
       "<Figure size 432x288 with 1 Axes>"
      ]
     },
     "metadata": {
      "needs_background": "light"
     },
     "output_type": "display_data"
    }
   ],
   "source": [
    "# sample weights\n",
    "histoAR_depth1 = Y_train_depth1.copy()\n",
    "\n",
    "nbins = 3 ### works best[4 with no sqrt / 500 with sqrt normed] / 1000 with norm*100 / 4000 ok no sqrt\n",
    "\n",
    "true_hist_depth1 = np.histogram(histoAR_depth1,bins = nbins,\n",
    "                                range=(np.min(Y_train_depth1)-0.001,np.max(Y_train_depth1)+0.001))\n",
    "\n",
    "\n",
    "\n",
    "binweight_depth1 = true_hist_depth1[0][np.digitize(histoAR_depth1,true_hist_depth1[1]) - 1]\n",
    "\n",
    "\n",
    "\n",
    "binweight_depth1 = 1/binweight_depth1\n",
    "\n",
    "\n",
    "\n",
    "binweight_depth1 = 100*binweight_depth1/np.sum(np.unique(binweight_depth1)) ## 5000/5 ok\n",
    "\n",
    "\n",
    "\n",
    "\n",
    "\n",
    "print(\"sum weight_depth1:\",np.sum(np.unique(binweight_depth1)))\n",
    "print(\"true_hist_depth1\",true_hist_depth1[0])\n",
    "#print(\"binweight_depth1\",binweight_depth1)\n",
    "print(\"weight_vals_depth1:\",np.unique(binweight_depth1))\n",
    "\n",
    "\n",
    "\n",
    "binweight=[binweight_depth1]\n",
    "    \n",
    "histoAR = [histoAR_depth1]\n",
    "    \n",
    "true_hist = [true_hist_depth1[1]]\n",
    "    \n",
    "for i in range (0,1):\n",
    "    plt.hist(histoAR[i],bins=nbins)\n",
    "        \n",
    "    for j in true_hist[i]:\n",
    "        plt.axvline(j,color='r')\n",
    "        \n",
    "    plt.yscale(\"log\")\n",
    "    plt.show()\n"
   ]
  },
  {
   "cell_type": "code",
   "execution_count": 21,
   "metadata": {},
   "outputs": [
    {
     "name": "stdout",
     "output_type": "stream",
     "text": [
      "shape of binweight_depth1 (19718,)\n",
      "shape of weighted_pileup_mc (9124937,)\n"
     ]
    }
   ],
   "source": [
    "print(\"shape of binweight_depth1\",binweight_depth1.shape)\n",
    "print(\"shape of weighted_pileup_mc\",weighted_pileup_mc.shape)"
   ]
  },
  {
   "cell_type": "code",
   "execution_count": 22,
   "metadata": {},
   "outputs": [],
   "source": [
    "import keras.backend as kb\n",
    "def custom_loss_depth(preds, targets):\n",
    "    return (kb.square(preds-targets))\n"
   ]
  },
  {
   "cell_type": "code",
   "execution_count": null,
   "metadata": {
    "nbpresent": {
     "id": "8454fc76-ae27-4d86-976c-3b901f311091"
    }
   },
   "outputs": [],
   "source": [
    "PYTHONHASHSEED=0\n",
    "from numpy.random import seed\n",
    "seed(1)\n",
    "import tensorflow as tf\n",
    "tf.random.set_seed(2)\n",
    "from keras.layers import concatenate\n",
    "from tensorflow.keras.models import Model\n",
    "from tensorflow.keras.layers import Input, Dense\n",
    "\n",
    "print (\"creating model=========>\")\n",
    "\n",
    "input1=Input(shape=(X_train_depth1.shape[1],))\n",
    "\n",
    "x1 = Dense(21, activation=\"relu\")(input1)\n",
    "#x1 = Dropout(0.1)(x1)\n",
    "x1 = Dense(451, activation=\"relu\")(x1)\n",
    "#x1 = Dropout(0.1)(x1)\n",
    "x1 = Dense(131, activation=\"relu\")(x1)\n",
    "#x1 = Dropout(0.13)(x1)\n",
    "x1 = Dense(1)(x1)\n",
    "x1 = Model(inputs=input1, outputs=x1)\n",
    "\n",
    "model = Model(inputs=x1.input, outputs=x1.output)\n",
    "\n",
    "model.compile(loss=custom_loss_depth,optimizer=tf.keras.optimizers.Adam(learning_rate=0.01), metrics='accuracy')\n",
    "model.summary()\n",
    "print (\"fitting now=========>\")\n",
    "history = model.fit(X_train_depth1, Y_train_depth1, batch_size=3000, \n",
    "                      epochs=300, validation_split=0.1, verbose=1,sample_weight=binweight_depth1)\n"
   ]
  },
  {
   "cell_type": "code",
   "execution_count": null,
   "metadata": {
    "nbpresent": {
     "id": "0fa2e882-e055-4e19-879d-7447eaa36fcc"
    }
   },
   "outputs": [],
   "source": [
    "print(history.history.keys())\n",
    "# summarize history for accuracy\n",
    "plt.plot(history.history['loss'])\n",
    "plt.plot(history.history['val_loss'])\n",
    "plt.title('model loss')\n",
    "plt.ylabel('loss')\n",
    "plt.xlabel('epoch')\n",
    "plt.legend(['train', 'validation'], loc='upper right')\n",
    "#plt.savefig('Plots/ieta24_Depth=1_LossFunction.png')\n",
    "#plt.savefig('Plots/ieta24_Depth=1_LossFunction.pdf')\n",
    "#plt.savefig('ieta24_Depth=1_LossFunction_May8.png')\n",
    "plt.show()\n"
   ]
  },
  {
   "cell_type": "code",
   "execution_count": null,
   "metadata": {},
   "outputs": [],
   "source": [
    "# evaluate model\n",
    "\n",
    "preds = model.predict(X_test[:,np.r_[0:12,12]] )\n",
    "\n",
    "targets = X_test[:,19]\n",
    "    \n",
    "uncorrected = X_test[:,26]\n",
    "\n",
    "#preds = preds.reshape(preds.shape[1],preds.shape[0])\n",
    "\n",
    "targets = targets.reshape(targets.shape[0],1)\n",
    "uncorrected = uncorrected.reshape(uncorrected.shape[0],1)\n",
    "#print(preds)\n",
    "print(\"------------------------\")\n",
    "#print(targets)\n",
    "\n",
    "pred_1=np.round(np.exp(preds)/10000,3)\n",
    "targets_1=np.round(np.exp(targets)/10000,3)\n",
    "uncorrected_1=np.round(np.exp(uncorrected)/10000,3)\n",
    "\n",
    "#np.savetxt('TextFiles/predicted_ieta24_depth1.txt', pred_1, fmt='%10.4f')\n",
    "#np.savetxt('TextFiles/truth_NoPU_ieta24_depth1.txt', targets_1, fmt='%10.4f')\n",
    "#np.savetxt('TextFiles/truth_PU_ieta24_depth1.txt', uncorrected_1, fmt='%10.4f')"
   ]
  },
  {
   "cell_type": "code",
   "execution_count": null,
   "metadata": {},
   "outputs": [],
   "source": [
    "from matplotlib import gridspec\n",
    "%matplotlib inline\n",
    "i=0\n",
    "\n",
    "\n",
    "\n",
    "fig = plt.figure(figsize=(6,6))\n",
    "gs = gridspec.GridSpec(2,1, height_ratios=[2, 1]) \n",
    "ax = plt.subplot(gs[0])\n",
    "a=round(np.mean(targets[:,i]),3)\n",
    "b=round(np.mean(preds),3)\n",
    "ns, bins, patches = ax.hist([targets[:,i], preds[:,i], uncorrected[:,i]], \n",
    "                            histtype='step', bins=200,  range=(0,20), linewidth=1.5,\n",
    "                            label=['truth no PU, Mean='+str(a),'predicted, Mean='+str(b), 'truth PU'], \n",
    "                            color= ['red', 'green', 'yellow'], )\n",
    "ax.legend(loc='upper right')\n",
    "ax.set_yscale('log')    \n",
    "plt.xlim(0,20)\n",
    "\n",
    "\n",
    "plt.title('Depth=1', loc='right')\n",
    "    \n",
    "ax1 = plt.subplot(gs[1])\n",
    "ax1.plot(bins[:-1], ns[1] / ns[0], 'bo')\n",
    "plt.ylabel('predicted / truth no PU')\n",
    "ax1.plot([-1, 21], [1, 1])\n",
    "plt.xlim(0,20)\n",
    "plt.ylim(-2,5)\n",
    "#plt.savefig('Plots_Dec2021/ieta'+str(ieta)+'_'+str(k)+'_log.png')\n",
    "#plt.savefig('Plots_Dec2021/ieta'+str(ieta)+'_'+str(k)+'_log.pdf')\n",
    "plt.show()\n"
   ]
  },
  {
   "cell_type": "code",
   "execution_count": null,
   "metadata": {
    "scrolled": true
   },
   "outputs": [],
   "source": [
    "import statistics\n",
    "b=(np.exp(preds)/10000)\n",
    "#print((np.exp(preds)/10000).mean())\n",
    "#print (df)\n",
    "#x=df.loc[abs(df['hcal_ieta_un']) == 23]\n",
    "#print(x)\n",
    "#if x==23:\n",
    "  #  print(df['hcal_ieta_un'])"
   ]
  },
  {
   "cell_type": "code",
   "execution_count": null,
   "metadata": {},
   "outputs": [],
   "source": [
    "from matplotlib import gridspec\n",
    "%matplotlib inline\n",
    "i=0\n",
    "\n",
    "fig = plt.figure(figsize=(6,6))\n",
    "gs = gridspec.GridSpec(2,1, height_ratios=[2, 1]) \n",
    "ax = plt.subplot(gs[0])\n",
    "a=round(np.mean(np.exp((targets[:,i]))/10000),3)\n",
    "b=round(np.mean(np.exp(preds[:,i])/10000),3)\n",
    "ns, bins, patches = ax.hist([(np.exp((targets[:,i]))/10000), (np.exp(preds[:,i])/10000),\n",
    "                                 (np.exp(uncorrected[:,i])/10000)], histtype='step', bins=30,  range=(0,3), \n",
    "                                linewidth=1.5, label=['truth no PU, Mean='+str(a),'predicted, Mean='+str(b), \n",
    "                                                      'truth PU'], color= ['red', 'green', 'yellow'], )\n",
    "ax.legend(loc='upper right')\n",
    "ax.set_yscale('log')   \n",
    "plt.xlim(0,3)\n",
    "\n",
    "plt.title('Depth=1', loc='right')\n",
    "plt.title('ieta=24', loc='left')   \n",
    "ax1 = plt.subplot(gs[1])\n",
    "error=(ns[1]/ns[0])*(np.sqrt((1/ns[1])+(1/ns[0])))\n",
    "ax1.errorbar(bins[:-1], ns[1] / ns[0], yerr=error, xerr=None,  fmt='o')\n",
    "plt.ylabel('predicted / truth no PU')\n",
    "ax1.plot([-1, 3], [1, 1])\n",
    "plt.xlim(0,3)\n",
    "plt.ylim(-2,4)\n",
    "#plt.savefig('Plots/ieta24_Depth=1_1.png')\n",
    "#plt.savefig('Plots/ieta24_Depth=1_1.pdf')\n",
    "plt.show()\n",
    "    \n",
    "\n"
   ]
  },
  {
   "cell_type": "code",
   "execution_count": null,
   "metadata": {},
   "outputs": [],
   "source": [
    "y_23=X_test[:,:][X_test[:, 33] == 23]\n",
    "y_24=X_test[:,:][X_test[:, 33] == 24]\n",
    "y_25=X_test[:,:][X_test[:, 33] == 25]\n",
    "\n",
    "preds_23 = model.predict(y_23[:,np.r_[0:12,12]])\n",
    "preds_24 = model.predict(y_24[:,np.r_[0:12,12]])\n",
    "preds_25 = model.predict(y_25[:,np.r_[0:12,12]])\n",
    "\n",
    "targets_23 = y_23[:,19]\n",
    "targets_24 = y_24[:,19]\n",
    "targets_25 = y_25[:,19]\n",
    "\n",
    "uncorrected_23 = y_23[:,26]\n",
    "uncorrected_24 = y_24[:,26]\n",
    "uncorrected_25 = y_25[:,26]\n",
    "\n",
    "targets_23 = targets_23.reshape(targets_23.shape[0],1)\n",
    "targets_24 = targets_24.reshape(targets_24.shape[0],1)\n",
    "targets_25 = targets_25.reshape(targets_25.shape[0],1)\n",
    "\n",
    "uncorrected_23 = uncorrected_23.reshape(uncorrected_23.shape[0],1)\n",
    "uncorrected_24 = uncorrected_24.reshape(uncorrected_24.shape[0],1)\n",
    "uncorrected_25 = uncorrected_25.reshape(uncorrected_25.shape[0],1)\n",
    "\n",
    "\n",
    "preds_23_1=np.round(np.exp(preds_23)/10000,3)\n",
    "targets_23_1=np.round(np.exp(targets_23)/10000,3)\n",
    "uncorrected_23_1=np.round(np.exp(uncorrected_23)/10000,3)\n",
    "np.savetxt('TextFiles/predicted_ieta23_depth1.txt', preds_23_1, fmt='%10.4f')\n",
    "np.savetxt('TextFiles/truth_NoPU_ieta23_depth1.txt', targets_23_1, fmt='%10.4f')\n",
    "np.savetxt('TextFiles/truth_PU_ieta23_depth1.txt', uncorrected_23_1, fmt='%10.4f')\n",
    "\n",
    "preds_24_1=np.round(np.exp(preds_24)/10000,3)\n",
    "targets_24_1=np.round(np.exp(targets_24)/10000,3)\n",
    "uncorrected_24_1=np.round(np.exp(uncorrected_24)/10000,3)\n",
    "np.savetxt('TextFiles/predicted_ieta24_depth1.txt', preds_24_1, fmt='%10.4f')\n",
    "np.savetxt('TextFiles/truth_NoPU_ieta24_depth1.txt', targets_24_1, fmt='%10.4f')\n",
    "np.savetxt('TextFiles/truth_PU_ieta24_depth1.txt', uncorrected_24_1, fmt='%10.4f')\n",
    "\n",
    "preds_25_1=np.round(np.exp(preds_25)/10000,3)\n",
    "targets_25_1=np.round(np.exp(targets_25)/10000,3)\n",
    "uncorrected_25_1=np.round(np.exp(uncorrected_25)/10000,3)\n",
    "np.savetxt('TextFiles/predicted_ieta25_depth1.txt', preds_25_1, fmt='%10.4f')\n",
    "np.savetxt('TextFiles/truth_NoPU_ieta25_depth1.txt', targets_25_1, fmt='%10.4f')\n",
    "np.savetxt('TextFiles/truth_PU_ieta25_depth1.txt', uncorrected_25_1, fmt='%10.4f')\n",
    "\n",
    "\n",
    "#print(preds_23)\n",
    "print(\"------------------------\")\n",
    "#print(targets_23)"
   ]
  },
  {
   "cell_type": "code",
   "execution_count": null,
   "metadata": {},
   "outputs": [],
   "source": [
    "from matplotlib import gridspec\n",
    "%matplotlib inline\n",
    "i=0\n",
    "\n",
    "fig = plt.figure(figsize=(6,6))\n",
    "gs = gridspec.GridSpec(2,1, height_ratios=[2, 1]) \n",
    "ax = plt.subplot(gs[0])\n",
    "a=round(np.mean(np.exp((targets_23[:,i]))/10000),3)\n",
    "b=round(np.mean(np.exp(preds_23[:,i])/10000),3)\n",
    "ns, bins, patches = ax.hist([(np.exp((targets_23[:,i]))/10000), (np.exp(preds_23[:,i])/10000),\n",
    "                                 (np.exp(uncorrected_23[:,i])/10000)], histtype='step', bins=30,  range=(0,3), \n",
    "                                linewidth=1.5, label=['truth no PU, Mean='+str(a),'predicted, Mean='+str(b), \n",
    "                                                      'truth PU'], color= ['red', 'green', 'yellow'], )\n",
    "ax.legend(loc='upper right')\n",
    "ax.set_yscale('log')   \n",
    "plt.xlim(0,3)\n",
    "\n",
    "plt.title('Depth=1', loc='right')\n",
    "plt.title('ieta=23', loc='left')   \n",
    "ax1 = plt.subplot(gs[1])\n",
    "error=(ns[1]/ns[0])*(np.sqrt((1/ns[1])+(1/ns[0])))\n",
    "ax1.errorbar(bins[:-1], ns[1] / ns[0], yerr=error, xerr=None,  fmt='o')\n",
    "plt.ylabel('predicted / truth no PU')\n",
    "ax1.plot([-1, 3], [1, 1])\n",
    "plt.xlim(0,3)\n",
    "plt.ylim(0,2)\n",
    "plt.savefig('Plots_Dec2021/ieta23_Depth=1_Dec23.png')\n",
    "plt.savefig('Plots_Dec2021/ieta23_Depth=1_Dec23.pdf')\n",
    "plt.show()"
   ]
  },
  {
   "cell_type": "code",
   "execution_count": null,
   "metadata": {},
   "outputs": [],
   "source": [
    "from matplotlib import gridspec\n",
    "%matplotlib inline\n",
    "i=0\n",
    "\n",
    "fig = plt.figure(figsize=(6,6))\n",
    "gs = gridspec.GridSpec(2,1, height_ratios=[2, 1]) \n",
    "ax = plt.subplot(gs[0])\n",
    "a=round(np.mean(np.exp((targets_24[:,i]))/10000),3)\n",
    "b=round(np.mean(np.exp(preds_24[:,i])/10000),3)\n",
    "ns, bins, patches = ax.hist([(np.exp((targets_24[:,i]))/10000), (np.exp(preds_24[:,i])/10000),\n",
    "                                 (np.exp(uncorrected_24[:,i])/10000)], histtype='step', bins=30,  range=(0,3), \n",
    "                                linewidth=1.5, label=['truth no PU, Mean='+str(a),'predicted, Mean='+str(b), \n",
    "                                                      'truth PU'], color= ['red', 'green', 'yellow'], )\n",
    "ax.legend(loc='upper right')\n",
    "ax.set_yscale('log')   \n",
    "plt.xlim(0,3)\n",
    "\n",
    "plt.title('Depth=1', loc='right')\n",
    "plt.title('ieta=24', loc='left')   \n",
    "ax1 = plt.subplot(gs[1])\n",
    "error=(ns[1]/ns[0])*(np.sqrt((1/ns[1])+(1/ns[0])))\n",
    "ax1.errorbar(bins[:-1], ns[1] / ns[0], yerr=error, xerr=None,  fmt='o')\n",
    "plt.ylabel('predicted / truth no PU')\n",
    "ax1.plot([-1, 3], [1, 1])\n",
    "plt.xlim(0,3)\n",
    "plt.ylim(0,2)\n",
    "plt.savefig('Plots_Dec2021/ieta24_Depth=1_Dec23.png')\n",
    "plt.savefig('Plots_Dec2021/ieta24_Depth=1_Dec23.pdf')\n",
    "plt.show()"
   ]
  },
  {
   "cell_type": "code",
   "execution_count": null,
   "metadata": {},
   "outputs": [],
   "source": [
    "from matplotlib import gridspec\n",
    "%matplotlib inline\n",
    "i=0\n",
    "\n",
    "fig = plt.figure(figsize=(6,6))\n",
    "gs = gridspec.GridSpec(2,1, height_ratios=[2, 1]) \n",
    "ax = plt.subplot(gs[0])\n",
    "a=round(np.mean(np.exp((targets_25[:,i]))/10000),3)\n",
    "b=round(np.mean(np.exp(preds_25[:,i])/10000),3)\n",
    "ns, bins, patches = ax.hist([(np.exp((targets_25[:,i]))/10000), (np.exp(preds_25[:,i])/10000),\n",
    "                                 (np.exp(uncorrected_25[:,i])/10000)], histtype='step', bins=30,  range=(0,3), \n",
    "                                linewidth=1.5, label=['truth no PU, Mean='+str(a),'predicted, Mean='+str(b), \n",
    "                                                      'truth PU'], color= ['red', 'green', 'yellow'], )\n",
    "ax.legend(loc='upper right')\n",
    "ax.set_yscale('log')   \n",
    "plt.xlim(0,3)\n",
    "\n",
    "plt.title('Depth=1', loc='right')\n",
    "plt.title('ieta=25', loc='left')   \n",
    "ax1 = plt.subplot(gs[1])\n",
    "error=(ns[1]/ns[0])*(np.sqrt((1/ns[1])+(1/ns[0])))\n",
    "ax1.errorbar(bins[:-1], ns[1] / ns[0], yerr=error, xerr=None,  fmt='o')\n",
    "plt.ylabel('predicted / truth no PU')\n",
    "ax1.plot([-1, 3], [1, 1])\n",
    "plt.xlim(0,3)\n",
    "plt.ylim(0,2)\n",
    "plt.savefig('Plots_Dec2021/ieta25_Depth=1_Dec23.png')\n",
    "plt.savefig('Plots_Dec2021/ieta25_Depth=1_Dec23.pdf')\n",
    "plt.show()"
   ]
  },
  {
   "cell_type": "code",
   "execution_count": null,
   "metadata": {
    "scrolled": true
   },
   "outputs": [],
   "source": [
    "#save model\n",
    "import os\n",
    "if not os.path.exists('model'):\n",
    "    os.makedirs('model')\n",
    "#model.save('model/model_ieta23to25_Depth1_Dec23.h5')"
   ]
  },
  {
   "cell_type": "code",
   "execution_count": null,
   "metadata": {},
   "outputs": [],
   "source": [
    "import h5py\n",
    "hf=h5py.File('model/model_ieta23to25_Depth1_Dec23.h5','r')\n",
    "hf.keys()"
   ]
  },
  {
   "cell_type": "code",
   "execution_count": null,
   "metadata": {},
   "outputs": [],
   "source": []
  }
 ],
 "metadata": {
  "kernelspec": {
   "display_name": "py3-data-project",
   "language": "python",
   "name": "py3-data-project"
  },
  "language_info": {
   "codemirror_mode": {
    "name": "ipython",
    "version": 3
   },
   "file_extension": ".py",
   "mimetype": "text/x-python",
   "name": "python",
   "nbconvert_exporter": "python",
   "pygments_lexer": "ipython3",
   "version": "3.7.6"
  }
 },
 "nbformat": 4,
 "nbformat_minor": 2
}
