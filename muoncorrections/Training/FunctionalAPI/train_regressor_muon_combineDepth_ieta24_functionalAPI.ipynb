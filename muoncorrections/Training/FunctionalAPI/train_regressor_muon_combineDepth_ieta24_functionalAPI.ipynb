{
 "cells": [
  {
   "cell_type": "code",
   "execution_count": null,
   "metadata": {
    "nbpresent": {
     "id": "0a248537-a46f-4db0-b91f-c9fcb1827f63"
    }
   },
   "outputs": [],
   "source": [
    "import pandas as pd\n",
    "import numpy as np\n",
    "import matplotlib.pyplot as plt\n",
    "import keras\n",
    "from keras.models import Sequential\n",
    "from keras.layers import Dense\n",
    "from keras.layers import Dropout\n",
    "from keras.utils.np_utils import to_categorical\n",
    "from tensorflow.keras.utils import plot_model\n",
    "from keras import regularizers\n",
    "from sklearn.metrics import roc_curve, auc\n",
    "from keras.layers import Activation\n",
    "from keras import backend as K"
   ]
  },
  {
   "cell_type": "code",
   "execution_count": null,
   "metadata": {
    "nbpresent": {
     "id": "159ee908-ee70-4719-bf31-e67da99e8c61"
    }
   },
   "outputs": [],
   "source": [
    "# load saved df\n",
    "df = pd.read_pickle('test.pkl')\n",
    "print (df.keys())"
   ]
  },
  {
   "cell_type": "code",
   "execution_count": null,
   "metadata": {
    "nbpresent": {
     "id": "e42911ea-1e5e-4460-830f-e3c48218d94b"
    }
   },
   "outputs": [],
   "source": [
    "# filter events\n",
    "ieta=24\n",
    "df = df.loc[abs(df[b'hcal_ieta']) == ieta]\n",
    "\n",
    "df = df.loc[df[\"b'hcal_edepth1'_x\"] > 0.00001]\n",
    "df = df.loc[df[\"b'hcal_edepth1'_y\"] > 0.00001]\n",
    "\n",
    "df = df.loc[df[\"b'hcal_edepth2'_x\"] > 0.00001]\n",
    "df = df.loc[df[\"b'hcal_edepth2'_y\"] > 0.00001]\n",
    "\n",
    "df = df.loc[df[\"b'hcal_edepth3'_x\"] > 0.00001]\n",
    "df = df.loc[df[\"b'hcal_edepth3'_y\"] > 0.00001]\n",
    "\n",
    "df = df.loc[df[\"b'hcal_edepth4'_x\"] > 0.00001]\n",
    "df = df.loc[df[\"b'hcal_edepth4'_y\"] > 0.00001]\n",
    "\n",
    "df = df.loc[df[\"b'hcal_edepth5'_x\"] > 0.00001]\n",
    "df = df.loc[df[\"b'hcal_edepth5'_y\"] > 0.00001]\n",
    "\n",
    "df = df.loc[df[\"b'hcal_edepth6'_x\"] > 0.00001]\n",
    "df = df.loc[df[\"b'hcal_edepth6'_y\"] > 0.00001]\n",
    "\n",
    "if ieta in range (26,28):\n",
    "    df = df.loc[df[\"b'hcal_edepth7'_x\"] > 0.00001]\n",
    "    df = df.loc[df[\"b'hcal_edepth7'_y\"] > 0.00001]\n"
   ]
  },
  {
   "cell_type": "code",
   "execution_count": null,
   "metadata": {},
   "outputs": [],
   "source": [
    "df[\"b'hcal_edepth1'_x\"]=np.log(10000*df[\"b'hcal_edepth1'_x\"])\n",
    "df[\"b'hcal_edepth1'_y\"]=np.log(10000*df[\"b'hcal_edepth1'_y\"])\n",
    "\n",
    "df[\"b'hcal_edepth2'_x\"]=np.log(10000*df[\"b'hcal_edepth2'_x\"])\n",
    "df[\"b'hcal_edepth2'_y\"]=np.log(10000*df[\"b'hcal_edepth2'_y\"])\n",
    "\n",
    "df[\"b'hcal_edepth3'_x\"]=np.log(10000*df[\"b'hcal_edepth3'_x\"])\n",
    "df[\"b'hcal_edepth3'_y\"]=np.log(10000*df[\"b'hcal_edepth3'_y\"])\n",
    "\n",
    "df[\"b'hcal_edepth4'_x\"]=np.log(10000*df[\"b'hcal_edepth4'_x\"])\n",
    "df[\"b'hcal_edepth4'_y\"]=np.log(10000*df[\"b'hcal_edepth4'_y\"])\n",
    "\n",
    "df[\"b'hcal_edepth5'_x\"]=np.log(10000*df[\"b'hcal_edepth5'_x\"])\n",
    "df[\"b'hcal_edepth5'_y\"]=np.log(10000*df[\"b'hcal_edepth5'_y\"])\n",
    "\n",
    "df[\"b'hcal_edepth6'_x\"]=np.log(10000*df[\"b'hcal_edepth6'_x\"])\n",
    "df[\"b'hcal_edepth6'_y\"]=np.log(10000*df[\"b'hcal_edepth6'_y\"])\n",
    "\n",
    "if ieta in range (26,28):\n",
    "    df[\"b'hcal_edepth7'_x\"]=np.log(10000*df[\"b'hcal_edepth7'_x\"])\n",
    "    df[\"b'hcal_edepth7'_y\"]=np.log(10000*df[\"b'hcal_edepth7'_y\"])"
   ]
  },
  {
   "cell_type": "code",
   "execution_count": null,
   "metadata": {},
   "outputs": [],
   "source": [
    "# keep originals before scaling\n",
    "df['hcal_edepth1_un'] = df[\"b'hcal_edepth1'_x\"]\n",
    "df['hcal_edepth2_un'] = df[\"b'hcal_edepth2'_x\"]\n",
    "df['hcal_edepth3_un'] = df[\"b'hcal_edepth3'_x\"]\n",
    "df['hcal_edepth4_un'] = df[\"b'hcal_edepth4'_x\"]\n",
    "df['hcal_edepth5_un'] = df[\"b'hcal_edepth5'_x\"]\n",
    "df['hcal_edepth6_un'] = df[\"b'hcal_edepth6'_x\"]\n",
    "df['hcal_edepth7_un'] = df[\"b'hcal_edepth7'_x\"]\n",
    "\n",
    "df['hcal_ieta_un'] = df[b'hcal_ieta']"
   ]
  },
  {
   "cell_type": "code",
   "execution_count": null,
   "metadata": {},
   "outputs": [],
   "source": [
    "# scaling input vars\n",
    "cols_to_minmax =[b'pt_of_muon',b'eta_of_muon',b'phi_of_muon',b'energy_of_muon',b'hcal_ieta',\n",
    "                b'hcal_iphi',     b'IsolationR04',     b'IsolationR03',\n",
    "                b'ecal_3into3',      b'hcal_3into3', \n",
    "                b'ecal_3x3',         b'hcal_1x1',\n",
    "               \"b'hcal_edepth1'_x\", \"b'hcal_edepth2'_x\", \"b'hcal_edepth3'_x\",\n",
    "               \"b'hcal_edepth4'_x\", \"b'hcal_edepth5'_x\", \"b'hcal_edepth6'_x\",\n",
    "               \"b'hcal_edepth7'_x\"]\n",
    "\n",
    "\n",
    "df[cols_to_minmax] = df[cols_to_minmax].apply(lambda x: (x - x.min()) /  (x.max() - x.min()))"
   ]
  },
  {
   "cell_type": "code",
   "execution_count": null,
   "metadata": {},
   "outputs": [],
   "source": [
    "for i in (df.keys()):\n",
    "    print (i)\n",
    "    if i == \"b'hcal_edepth7'_x\":\n",
    "        continue\n",
    "    if i == \"b'hcal_edepth7'_y\":\n",
    "        continue\n",
    "    if i == \"b'hcal_edepth7'_un\":\n",
    "        continue\n",
    "    plt.hist(df[i],bins=100,label=str(i),alpha=0.4)\n",
    "    plt.yscale(\"log\")\n",
    "    plt.legend()\n",
    "    plt.show()"
   ]
  },
  {
   "cell_type": "code",
   "execution_count": null,
   "metadata": {
    "nbpresent": {
     "id": "b4717cf1-c9f3-4ecd-a505-1eddfe074421"
    }
   },
   "outputs": [],
   "source": [
    "data = df.values\n",
    "print (data.shape[0])\n",
    "ntest = 20000\n",
    "testindx = data.shape[0] - ntest\n",
    "X_train_depth1 = data[:testindx,np.r_[0:12,12]]   \n",
    "X_train_depth2 = data[:testindx,np.r_[0:12,13]] \n",
    "\n",
    "Y_train = data[:testindx,20]               \n",
    "X_test = data[testindx:,:]\n",
    "print (X_test.shape) \n",
    "print (\"shape of X_train_depth1:\",X_train_depth1.shape)\n",
    "print (\"shape of X_train_depth2:\",X_train_depth2.shape)\n",
    "print (\"shape of Y_train:\",Y_train.shape)"
   ]
  },
  {
   "cell_type": "code",
   "execution_count": null,
   "metadata": {
    "nbpresent": {
     "id": "b867ec5d-fc25-4536-a353-4a87f1391ccb"
    },
    "scrolled": false
   },
   "outputs": [],
   "source": [
    "# sample weights\n",
    "histoAR = Y_train.copy()\n",
    "nbins = 4 ### works best[4 with no sqrt / 500 with sqrt normed] / 1000 with norm*100 / 4000 ok no sqrt\n",
    "true_hist = np.histogram(histoAR,bins = nbins,range=(np.min(Y_train)-0.001,np.max(Y_train)+0.001))\n",
    "binweight = true_hist[0][np.digitize(histoAR,true_hist[1]) - 1]\n",
    "print (\"true_hist[0] = \", true_hist[0])\n",
    "binweight = 1/binweight\n",
    "binweight = 100*binweight/np.sum(np.unique(binweight)) ## 5000/5 ok\n",
    "print(\"sum weight:\",np.sum(np.unique(binweight)))\n",
    "print(\"true_hist\",true_hist[0])\n",
    "print(\"binweight\",binweight)\n",
    "print(\"weight_vals:\",np.unique(binweight))\n",
    "plt.hist(histoAR,bins=nbins)\n",
    "for i in true_hist[1]:\n",
    "    plt.axvline(i,color='r')\n",
    "plt.yscale(\"log\")"
   ]
  },
  {
   "cell_type": "code",
   "execution_count": null,
   "metadata": {},
   "outputs": [],
   "source": [
    "import keras.backend as kb\n",
    "def custom_loss_depth1(preds1, targets):\n",
    "    return (kb.square(preds1-targets))\n",
    "\n",
    "def custom_loss_depth2(preds2, targets):\n",
    "    return (kb.square(preds2-targets))"
   ]
  },
  {
   "cell_type": "code",
   "execution_count": null,
   "metadata": {
    "nbpresent": {
     "id": "8454fc76-ae27-4d86-976c-3b901f311091"
    }
   },
   "outputs": [],
   "source": [
    "PYTHONHASHSEED=0\n",
    "from numpy.random import seed\n",
    "seed(1)\n",
    "import tensorflow as tf\n",
    "tf.random.set_seed(2)\n",
    "\n",
    "from keras.layers import LeakyReLU\n",
    "from keras.layers import Input\n",
    "from keras import optimizers\n",
    "from keras.layers import concatenate\n",
    "from tensorflow.keras.models import Model\n",
    "#from tensorflow.keras.models import Input\n",
    "\n",
    "print (\"creating model=========>\")\n",
    "\n",
    "# define two sets of inputs\n",
    "inputA=Input(shape=(X_train_depth1.shape[1],))\n",
    "inputB=Input(shape=(X_train_depth2.shape[1],))\n",
    "\n",
    "# the first branch operates on the first input\n",
    "x = Dense(8, activation=\"relu\")(inputA)\n",
    "x = Dense(4, activation=\"relu\")(x)\n",
    "x = Model(inputs=inputA, outputs=x)\n",
    "\n",
    "# the second branch opreates on the second input\n",
    "y = Dense(64, activation=\"relu\")(inputB)\n",
    "y = Dense(32, activation=\"relu\")(y)\n",
    "y = Dense(4, activation=\"relu\")(y)\n",
    "y = Model(inputs=inputB, outputs=y)\n",
    "\n",
    "# combine the output of the two branches\n",
    "combined = concatenate([x.output, y.output])\n",
    "\n",
    "# apply a FC layer and then a regression prediction on the\n",
    "# combined outputs\n",
    "z1 = Dense(2, activation=\"relu\")(combined)\n",
    "z1 = Dense(1, activation=\"relu\")(z1)\n",
    "z2 = Dense(2, activation=\"relu\")(combined)\n",
    "z2 = Dense(1, activation=\"relu\")(z2)\n",
    "\n",
    "\n",
    "# our model will accept the inputs of the two branches and\n",
    "# then output a single value\n",
    "model = Model(inputs=[x.input, y.input], outputs=[x.output,y.output])\n",
    "\n",
    "model.compile(loss=[custom_loss_depth1, custom_loss_depth2],optimizer='adam')\n",
    "model.summary()\n",
    "print (\"fitting now=========>\")\n",
    "history = model.fit([X_train_depth1, X_train_depth2],[Y_train, Y_train] , batch_size=5000, epochs=500, validation_split=0.2,\n",
    "                    verbose=1,sample_weight=binweight)"
   ]
  },
  {
   "cell_type": "code",
   "execution_count": null,
   "metadata": {
    "nbpresent": {
     "id": "0fa2e882-e055-4e19-879d-7447eaa36fcc"
    }
   },
   "outputs": [],
   "source": [
    "print(history.history.keys())\n",
    "# summarize history for accuracy\n",
    "plt.plot(history.history['loss'])\n",
    "plt.plot(history.history['val_loss'])\n",
    "plt.title('model loss')\n",
    "plt.ylabel('loss')\n",
    "plt.xlabel('epoch')\n",
    "plt.legend(['train', 'validation'], loc='upper left')\n",
    "plt.show()"
   ]
  },
  {
   "cell_type": "code",
   "execution_count": null,
   "metadata": {},
   "outputs": [],
   "source": [
    "# evaluate model\n",
    "preds = model.predict([X_test[:,np.r_[0:12,12]],X_test[:,np.r_[0:12,13]]] )\n",
    "targets = X_test[:,20]\n",
    "uncorrected = X_test[:,27]\n",
    "\n",
    "targets = targets.reshape(targets.shape[0],1)\n",
    "uncorrected = uncorrected.reshape(uncorrected.shape[0],1)"
   ]
  },
  {
   "cell_type": "code",
   "execution_count": null,
   "metadata": {},
   "outputs": [],
   "source": [
    "from matplotlib import gridspec\n",
    "%matplotlib inline\n",
    "i=0\n",
    "\n",
    "for j in range (0,2):\n",
    "    fig = plt.figure(figsize=(6,6))\n",
    "    gs = gridspec.GridSpec(2,1, height_ratios=[2, 1]) \n",
    "    ax = plt.subplot(gs[0])\n",
    "    a=round(np.mean(targets[:,i]),3)\n",
    "    b=round(np.mean(preds[j][:,i]),3)\n",
    "    ns, bins, patches = ax.hist([targets[:,i], preds[j][:,i], df['hcal_edepth2_un']], \n",
    "                            histtype='step', bins=100,  range=(0,20), linewidth=1.5,\n",
    "                            label=['truth no PU, Mean='+str(a),'predicted, Mean='+str(b), 'truth PU'], \n",
    "                            color= ['red', 'green', 'yellow'], )\n",
    "    ax.legend(loc='upper right')\n",
    "    ax.set_yscale('log')    \n",
    "    plt.xlim(0,20)\n",
    "    k=j+1\n",
    "    plt.title('ieta: '+str(ieta), loc='left')\n",
    "    plt.title('Depth='+str(k), loc='right')\n",
    "    \n",
    "    ax1 = plt.subplot(gs[1])\n",
    "    ax1.plot(bins[:-1], ns[1] / ns[0], 'bo')\n",
    "    plt.ylabel('predicted / truth no PU')\n",
    "    ax1.plot([-1, 21], [1, 1])\n",
    "    plt.xlim(0,20)\n",
    "    plt.ylim(-2,5)\n",
    "    plt.savefig('Plots/Aug04/Log/ieta'+str(ieta)+'_'+str(k)+'_log.png')\n",
    "    plt.savefig('Plots/Aug04/Log/ieta'+str(ieta)+'_'+str(k)+'_log.pdf')\n",
    "    plt.show()\n",
    "    \n",
    "\n"
   ]
  },
  {
   "cell_type": "code",
   "execution_count": null,
   "metadata": {},
   "outputs": [],
   "source": [
    "from matplotlib import gridspec\n",
    "%matplotlib inline\n",
    "i=0\n",
    "\n",
    "for j in range (0,2):\n",
    "    fig = plt.figure(figsize=(6,6))\n",
    "    gs = gridspec.GridSpec(2,1, height_ratios=[2, 1]) \n",
    "    ax = plt.subplot(gs[0])\n",
    "    a=round(np.mean(np.exp((targets[:,i]))/10000),3)\n",
    "    b=round(np.mean(np.exp(preds[0][:,i])/10000),3)\n",
    "    ns, bins, patches = ax.hist([(np.exp((targets[:,i]))/10000), (np.exp(preds[j][:,i])/10000), (np.exp(df['hcal_edepth2_un']))], \n",
    "                            histtype='step', bins=100,  range=(0,20), linewidth=1.5,\n",
    "                            label=['truth no PU, Mean='+str(a),'predicted, Mean='+str(b), 'truth PU'], \n",
    "                            color= ['red', 'green', 'yellow'], )\n",
    "    ax.legend(loc='upper right')\n",
    "    ax.set_yscale('log')    \n",
    "    plt.xlim(0,20)\n",
    "    k=j+1\n",
    "    plt.title('ieta: '+str(ieta), loc='left')\n",
    "    plt.title('Depth='+str(k), loc='right')\n",
    "    \n",
    "    ax1 = plt.subplot(gs[1])\n",
    "    ax1.plot(bins[:-1], ns[1] / ns[0], 'bo')\n",
    "    plt.ylabel('predicted / truth no PU')\n",
    "    ax1.plot([-1, 21], [1, 1])\n",
    "    plt.xlim(0,20)\n",
    "    plt.ylim(-2,5)\n",
    "    plt.savefig('Plots/Aug04/nonLog/ieta'+str(ieta)+'_'+str(k)+'_nonLog.png')\n",
    "    plt.savefig('Plots/Aug04/nonLog/ieta'+str(ieta)+'_'+str(k)+'_nonLog.pdf')\n",
    "    plt.show()\n",
    "    \n",
    "\n"
   ]
  },
  {
   "cell_type": "code",
   "execution_count": null,
   "metadata": {},
   "outputs": [],
   "source": [
    "#save model\n",
    "import os\n",
    "if not os.path.exists('models'):\n",
    "    os.makedirs('models')\n",
    "model.save('models/model_ieta24_depth2.h5')"
   ]
  },
  {
   "cell_type": "code",
   "execution_count": null,
   "metadata": {},
   "outputs": [],
   "source": []
  }
 ],
 "metadata": {
  "kernelspec": {
   "display_name": "py3-data-project",
   "language": "python",
   "name": "py3-data-project"
  },
  "language_info": {
   "codemirror_mode": {
    "name": "ipython",
    "version": 3
   },
   "file_extension": ".py",
   "mimetype": "text/x-python",
   "name": "python",
   "nbconvert_exporter": "python",
   "pygments_lexer": "ipython3",
   "version": "3.6.7"
  }
 },
 "nbformat": 4,
 "nbformat_minor": 2
}
