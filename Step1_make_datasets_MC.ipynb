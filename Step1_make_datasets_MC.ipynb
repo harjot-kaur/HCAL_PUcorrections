{
 "cells": [
  {
   "cell_type": "code",
   "execution_count": 1,
   "metadata": {},
   "outputs": [],
   "source": [
    "import uproot\n",
    "import numpy as np\n",
    "import pandas as pd\n",
    "import matplotlib.pyplot as plt"
   ]
  },
  {
   "cell_type": "code",
   "execution_count": 2,
   "metadata": {},
   "outputs": [],
   "source": [
    "# PU\n",
    "#fName1='/eos/uscms/store/user/sghosh/ISOTRACK/MUON/Validation_PU.root'\n",
    "fName1='/eos/cms/store/group/dpg_hcal/comm_hcal/Harjot/MC/Validation_PU.root'\n",
    "tree1 = uproot.open(fName1,xrootdsource=dict(chunkbytes=1024**3, limitbytes=1024**3))['hcalHBHEMuon/TREE']"
   ]
  },
  {
   "cell_type": "code",
   "execution_count": 3,
   "metadata": {},
   "outputs": [],
   "source": [
    "#no PU\n",
    "#fName2='/eos/uscms/store/user/sghosh/ISOTRACK/MUON/Validation_noPU.root'\n",
    "fName2='/eos/cms/store/group/dpg_hcal/comm_hcal/Harjot/MC/Validation_NoPU.root'\n",
    "tree2 = uproot.open(fName2,xrootdsource=dict(chunkbytes=1024**3, limitbytes=1024**3))['hcalHBHEMuon/TREE']"
   ]
  },
  {
   "cell_type": "code",
   "execution_count": 5,
   "metadata": {
    "scrolled": true
   },
   "outputs": [],
   "source": [
    "branchespu = [b'Event_No',b'GoodVertex',b'pt_of_muon',b'eta_of_muon',b'phi_of_muon', b'energy_of_muon',b'hcal_ieta', \n",
    "              b'hcal_iphi', b'MuonIsMedium',\n",
    "              b'IsolationR04', b'IsolationR03', b'ecal_3into3', b'hcal_3into3',b'ecal_3x3', \n",
    "              b'hcal_1x1',\n",
    "              b'hcal_cdepthHot1',b'hcal_cdepthHot2',b'hcal_cdepthHot3',b'hcal_cdepthHot4',b'hcal_cdepthHot5',\n",
    "              b'hcal_cdepthHot6',b'hcal_cdepthHot7',\n",
    "              ]\n",
    "branchesnpu = [b'Event_No',b'GoodVertex',b'hcal_ieta', b'hcal_iphi',\n",
    "              b'hcal_cdepthHot1',b'hcal_cdepthHot2',b'hcal_cdepthHot3',b'hcal_cdepthHot4',b'hcal_cdepthHot5',\n",
    "              b'hcal_cdepthHot6',b'hcal_cdepthHot7',\n",
    "              ]\n",
    "#print(tree1.keys())\n",
    "#dictn = tree.arrays(branches=branches,entrystart=0, entrystop=300)"
   ]
  },
  {
   "cell_type": "code",
   "execution_count": 6,
   "metadata": {},
   "outputs": [
    {
     "name": "stdout",
     "output_type": "stream",
     "text": [
      "test1\n"
     ]
    }
   ],
   "source": [
    "dictpu = tree1.arrays(branches=branchespu)\n",
    "print(\"test1\")"
   ]
  },
  {
   "cell_type": "code",
   "execution_count": 7,
   "metadata": {},
   "outputs": [
    {
     "name": "stdout",
     "output_type": "stream",
     "text": [
      "test1\n"
     ]
    }
   ],
   "source": [
    "dictnpu = tree2.arrays(branches=branchesnpu)\n",
    "print(\"test1\")"
   ]
  },
  {
   "cell_type": "code",
   "execution_count": 8,
   "metadata": {},
   "outputs": [],
   "source": [
    "dfspu = pd.DataFrame.from_dict(dictpu)"
   ]
  },
  {
   "cell_type": "code",
   "execution_count": 9,
   "metadata": {},
   "outputs": [],
   "source": [
    "dfsnpu = pd.DataFrame.from_dict(dictnpu)"
   ]
  },
  {
   "cell_type": "code",
   "execution_count": 10,
   "metadata": {},
   "outputs": [
    {
     "name": "stdout",
     "output_type": "stream",
     "text": [
      "selected events before cut: 1151475\n",
      "selected events after cut: 1018659\n"
     ]
    }
   ],
   "source": [
    "# find same muon from both files\n",
    "merged = pd.merge(dfspu, dfsnpu , on=[b'Event_No',b'hcal_ieta', b'hcal_iphi'])\n",
    "print (\"selected events before cut:\",merged.shape[0])\n",
    "cuts = (merged[b'MuonIsMedium'])\n",
    "merged=merged.loc[cuts]\n",
    "merged = merged.reset_index(drop=True)\n",
    "print (\"selected events after cut:\",merged.shape[0])"
   ]
  },
  {
   "cell_type": "code",
   "execution_count": 11,
   "metadata": {},
   "outputs": [],
   "source": [
    "# which vars to keep in df\n",
    "keepvars = [b'pt_of_muon',b'eta_of_muon',b'phi_of_muon', b'energy_of_muon',b'hcal_ieta', \n",
    "            b'hcal_iphi',\n",
    "            b'IsolationR04', b'IsolationR03', b'ecal_3into3', b'hcal_3into3',\n",
    "            b'ecal_3x3',b'hcal_1x1',\n",
    "              \n",
    "            \"b'hcal_cdepthHot1'_x\",\"b'hcal_cdepthHot2'_x\",\"b'hcal_cdepthHot3'_x\",\"b'hcal_cdepthHot4'_x\",\n",
    "            \"b'hcal_cdepthHot5'_x\",\"b'hcal_cdepthHot6'_x\",\"b'hcal_cdepthHot7'_x\",\n",
    "            \n",
    "            \"b'hcal_cdepthHot1'_y\",\"b'hcal_cdepthHot2'_y\",\"b'hcal_cdepthHot3'_y\",\"b'hcal_cdepthHot4'_y\",\n",
    "            \"b'hcal_cdepthHot5'_y\",\"b'hcal_cdepthHot6'_y\",\"b'hcal_cdepthHot7'_y\",\n",
    "              ]"
   ]
  },
  {
   "cell_type": "code",
   "execution_count": 12,
   "metadata": {},
   "outputs": [],
   "source": [
    "final_df = merged[keepvars]"
   ]
  },
  {
   "cell_type": "code",
   "execution_count": 13,
   "metadata": {},
   "outputs": [
    {
     "name": "stdout",
     "output_type": "stream",
     "text": [
      "test\n"
     ]
    }
   ],
   "source": [
    "# save dataframe\n",
    "final_df.to_pickle(\"Run3_MC_charge_only.pkl\")\n",
    "print (\"test\")"
   ]
  },
  {
   "cell_type": "code",
   "execution_count": null,
   "metadata": {},
   "outputs": [],
   "source": []
  }
 ],
 "metadata": {
  "kernelspec": {
   "display_name": "py3-data-project",
   "language": "python",
   "name": "py3-data-project"
  },
  "language_info": {
   "codemirror_mode": {
    "name": "ipython",
    "version": 3
   },
   "file_extension": ".py",
   "mimetype": "text/x-python",
   "name": "python",
   "nbconvert_exporter": "python",
   "pygments_lexer": "ipython3",
   "version": "3.7.6"
  }
 },
 "nbformat": 4,
 "nbformat_minor": 2
}
