{
 "cells": [
  {
   "cell_type": "code",
   "execution_count": 1,
   "metadata": {},
   "outputs": [],
   "source": [
    "import uproot\n",
    "import numpy as np\n",
    "import pandas as pd\n",
    "import matplotlib.pyplot as plt"
   ]
  },
  {
   "cell_type": "code",
   "execution_count": 2,
   "metadata": {},
   "outputs": [],
   "source": [
    "# PU\n",
    "#fName1='/eos/uscms/store/user/sghosh/ISOTRACK/MUON/Validation_PU.root'\n",
    "fName1='/eos/cms/store/group/dpg_hcal/comm_hcal/Harjot/MC/Validation_PU.root'\n",
    "tree1 = uproot.open(fName1,xrootdsource=dict(chunkbytes=1024**3, limitbytes=1024**3))['hcalHBHEMuon/TREE']"
   ]
  },
  {
   "cell_type": "code",
   "execution_count": 3,
   "metadata": {},
   "outputs": [],
   "source": [
    "#data\n",
    "#fName2='/eos/uscms/store/user/sghosh/ISOTRACK/MUON/Validation_noPU.root'\n",
    "fName3='/eos/cms/store/group/dpg_hcal/comm_hcal/Harjot/Muon_EraG_RECO/Validation.root'\n",
    "tree3 = uproot.open(fName3,xrootdsource=dict(chunkbytes=1024**3, limitbytes=1024**3))['hcalHBHEMuon/TREE']"
   ]
  },
  {
   "cell_type": "code",
   "execution_count": 30,
   "metadata": {
    "scrolled": true
   },
   "outputs": [],
   "source": [
    "branchespu = [b'Event_No',b'GoodVertex',b'pt_of_muon',b'eta_of_muon',b'phi_of_muon', b'energy_of_muon',b'hcal_ieta', \n",
    "              b'hcal_iphi', b'MuonIsMedium',\n",
    "              ]\n",
    "branchesdata = [b'Event_No',b'GoodVertex',b'pt_of_muon',b'eta_of_muon',b'phi_of_muon', b'energy_of_muon',b'hcal_ieta', \n",
    "              b'hcal_iphi', b'MuonIsMedium',\n",
    "              ]\n",
    "#print(tree1.keys())\n",
    "#dictn = tree.arrays(branches=branches,entrystart=0, entrystop=300)"
   ]
  },
  {
   "cell_type": "code",
   "execution_count": 5,
   "metadata": {},
   "outputs": [
    {
     "name": "stdout",
     "output_type": "stream",
     "text": [
      "test1\n"
     ]
    }
   ],
   "source": [
    "dictpu = tree1.arrays(branches=branchespu)\n",
    "print(\"test1\")"
   ]
  },
  {
   "cell_type": "code",
   "execution_count": 31,
   "metadata": {},
   "outputs": [
    {
     "name": "stdout",
     "output_type": "stream",
     "text": [
      "test1\n"
     ]
    }
   ],
   "source": [
    "dictdata = tree3.arrays(branches=branchesdata)\n",
    "print(\"test1\")"
   ]
  },
  {
   "cell_type": "code",
   "execution_count": 7,
   "metadata": {},
   "outputs": [],
   "source": [
    "dfspu = pd.DataFrame.from_dict(dictpu)"
   ]
  },
  {
   "cell_type": "code",
   "execution_count": 32,
   "metadata": {},
   "outputs": [],
   "source": [
    "dfsdata = pd.DataFrame.from_dict(dictdata)"
   ]
  },
  {
   "cell_type": "code",
   "execution_count": 28,
   "metadata": {},
   "outputs": [
    {
     "name": "stdout",
     "output_type": "stream",
     "text": [
      "selected events before cut: (9142071, 9)\n",
      "selected events after cut: (3870826, 9)\n"
     ]
    }
   ],
   "source": [
    "print (\"selected events before cut:\",dfspu.shape)\n",
    "#print (dfspu.keys())\n",
    "MC_medmuon = dfspu[dfspu[b'MuonIsMedium'] == True]\n",
    "print (\"selected events after cut:\",MC_medmuon.shape)"
   ]
  },
  {
   "cell_type": "code",
   "execution_count": 39,
   "metadata": {},
   "outputs": [
    {
     "name": "stdout",
     "output_type": "stream",
     "text": [
      "selected events before cut: (50573284, 9)\n",
      "Index([      b'Event_No',     b'GoodVertex',     b'pt_of_muon',\n",
      "          b'eta_of_muon',    b'phi_of_muon', b'energy_of_muon',\n",
      "            b'hcal_ieta',      b'hcal_iphi',   b'MuonIsMedium'],\n",
      "      dtype='object')\n",
      "selected events after cut: (14303078, 9)\n"
     ]
    }
   ],
   "source": [
    "print (\"selected events before cut:\",dfsdata.shape)\n",
    "print (dfsdata.keys())\n",
    "Data_medmuon = dfsdata[dfsdata[b'MuonIsMedium'] == True]\n",
    "print (\"selected events after cut:\",Data_medmuon.shape)"
   ]
  },
  {
   "cell_type": "code",
   "execution_count": 41,
   "metadata": {},
   "outputs": [
    {
     "name": "stdout",
     "output_type": "stream",
     "text": [
      "test\n"
     ]
    }
   ],
   "source": [
    "MC_medmuon.to_pickle(\"Run3_MC_forPUweights.pkl\")\n",
    "print (\"test\")"
   ]
  },
  {
   "cell_type": "code",
   "execution_count": 42,
   "metadata": {},
   "outputs": [
    {
     "name": "stdout",
     "output_type": "stream",
     "text": [
      "test\n"
     ]
    }
   ],
   "source": [
    "Data_medmuon.to_pickle(\"Run3_Data_forPUweights.pkl\")\n",
    "print (\"test\")"
   ]
  }
 ],
 "metadata": {
  "kernelspec": {
   "display_name": "py3-data-project",
   "language": "python",
   "name": "py3-data-project"
  },
  "language_info": {
   "codemirror_mode": {
    "name": "ipython",
    "version": 3
   },
   "file_extension": ".py",
   "mimetype": "text/x-python",
   "name": "python",
   "nbconvert_exporter": "python",
   "pygments_lexer": "ipython3",
   "version": "3.7.6"
  }
 },
 "nbformat": 4,
 "nbformat_minor": 2
}
